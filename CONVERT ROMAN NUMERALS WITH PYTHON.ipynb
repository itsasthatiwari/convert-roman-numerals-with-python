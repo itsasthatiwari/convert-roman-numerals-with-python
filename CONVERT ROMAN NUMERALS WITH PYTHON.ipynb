{
 "cells": [
  {
   "cell_type": "code",
   "execution_count": 4,
   "id": "c73fd256",
   "metadata": {},
   "outputs": [
    {
     "name": "stdout",
     "output_type": "stream",
     "text": [
      "Enter the roman numerals you want to convert: DXXXI\n",
      "The roman numerals you entered translates to: 500!\n",
      "The roman numerals you entered translates to: 510!\n",
      "The roman numerals you entered translates to: 520!\n",
      "The roman numerals you entered translates to: 530!\n",
      "The roman numerals you entered translates to: 531!\n"
     ]
    }
   ],
   "source": [
    "numeral_input = input(\"Enter the roman numerals you want to convert: \")\n",
    "def roman_to_int(numeral):\n",
    "    final_answer = 0\n",
    "    if \"CM\" in numeral:\n",
    "        final_answer += 900\n",
    "        numeral = numeral.replace(\"CM\", \"\")\n",
    "    if \"CD\" in numeral:\n",
    "        final_answer += 400\n",
    "        numeral = numeral.replace(\"CD\", \"\")\n",
    "    if \"XC\" in numeral:\n",
    "        final_answer += 90\n",
    "        numeral = numeral.replace(\"XC\", \"\")\n",
    "    if \"XL\" in numeral:\n",
    "        final_answer += 40\n",
    "        numeral = numeral.replace(\"XL\", \"\")\n",
    "    if \"IX\" in numeral:\n",
    "        final_answer += 9\n",
    "        numeral = numeral.replace(\"IX\", \"\")\n",
    "    if \"IV\" in numeral:\n",
    "        final_answer += 4\n",
    "        numeral = numeral.replace(\"IV\", \"\")\n",
    "    for i in numeral:\n",
    "        if i == \"M\":\n",
    "            final_answer += 1000\n",
    "        elif i == \"D\":\n",
    "            final_answer += 500\n",
    "        elif i == \"C\":\n",
    "            final_answer += 100\n",
    "        elif i == \"L\":\n",
    "            final_answer += 50\n",
    "        elif i == \"X\":\n",
    "            final_answer += 10\n",
    "        elif i == \"V\":\n",
    "            final_answer += 5\n",
    "        elif i == \"I\":\n",
    "            final_answer += 1\n",
    "        print(\"The roman numerals you entered translates to: \" + str(final_answer) + \"!\") \n",
    "roman_to_int(numeral_input)        \n",
    "    \n",
    "\n"
   ]
  },
  {
   "cell_type": "code",
   "execution_count": null,
   "id": "b165b8be",
   "metadata": {},
   "outputs": [],
   "source": []
  }
 ],
 "metadata": {
  "kernelspec": {
   "display_name": "Python 3 (ipykernel)",
   "language": "python",
   "name": "python3"
  },
  "language_info": {
   "codemirror_mode": {
    "name": "ipython",
    "version": 3
   },
   "file_extension": ".py",
   "mimetype": "text/x-python",
   "name": "python",
   "nbconvert_exporter": "python",
   "pygments_lexer": "ipython3",
   "version": "3.11.5"
  }
 },
 "nbformat": 4,
 "nbformat_minor": 5
}
